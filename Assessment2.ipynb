{
 "cells": [
  {
   "cell_type": "code",
   "execution_count": 1,
   "id": "d7dff22b-22a6-4170-b13c-7bf70d884855",
   "metadata": {},
   "outputs": [],
   "source": [
    "#importing libraries\n",
    "import pandas as pd\n",
    "import matplotlib.pyplot as plt\n",
    "import scipy.stats as st\n",
    "import seaborn as sns"
   ]
  },
  {
   "cell_type": "code",
   "execution_count": 2,
   "id": "8ad0c24c-e8c2-45a9-82ca-1f8d9b61da01",
   "metadata": {},
   "outputs": [],
   "source": [
    "#loading dataset\n",
    "df1=pd.read_csv(\"dataset1.csv\")\n",
    "df2=pd.read_csv(\"dataset2.csv\")"
   ]
  },
  {
   "cell_type": "code",
   "execution_count": 3,
   "id": "16cc8feb-21f4-4bea-9fe6-91c048062da9",
   "metadata": {},
   "outputs": [
    {
     "name": "stdout",
     "output_type": "stream",
     "text": [
      "Length of dataset one is 907\n",
      "Length of dataset two is 2123\n"
     ]
    }
   ],
   "source": [
    "print(f\"Length of dataset one is {len(df1)}\")\n",
    "print(f\"Length of dataset two is {len(df2)}\")"
   ]
  },
  {
   "cell_type": "markdown",
   "id": "8c1e7fcc-dbc1-4d14-8390-e35c8dec2aae",
   "metadata": {},
   "source": [
    "## Initial data exploration"
   ]
  },
  {
   "cell_type": "code",
   "execution_count": 4,
   "id": "92e1de39-c322-4323-8a89-c5fca69283e3",
   "metadata": {},
   "outputs": [
    {
     "data": {
      "text/html": [
       "<div>\n",
       "<style scoped>\n",
       "    .dataframe tbody tr th:only-of-type {\n",
       "        vertical-align: middle;\n",
       "    }\n",
       "\n",
       "    .dataframe tbody tr th {\n",
       "        vertical-align: top;\n",
       "    }\n",
       "\n",
       "    .dataframe thead th {\n",
       "        text-align: right;\n",
       "    }\n",
       "</style>\n",
       "<table border=\"1\" class=\"dataframe\">\n",
       "  <thead>\n",
       "    <tr style=\"text-align: right;\">\n",
       "      <th></th>\n",
       "      <th>start_time</th>\n",
       "      <th>bat_landing_to_food</th>\n",
       "      <th>habit</th>\n",
       "      <th>rat_period_start</th>\n",
       "      <th>rat_period_end</th>\n",
       "      <th>seconds_after_rat_arrival</th>\n",
       "      <th>risk</th>\n",
       "      <th>reward</th>\n",
       "      <th>month</th>\n",
       "      <th>sunset_time</th>\n",
       "      <th>hours_after_sunset</th>\n",
       "      <th>season</th>\n",
       "    </tr>\n",
       "  </thead>\n",
       "  <tbody>\n",
       "    <tr>\n",
       "      <th>0</th>\n",
       "      <td>30/12/2017 18:37</td>\n",
       "      <td>16.000000</td>\n",
       "      <td>rat</td>\n",
       "      <td>30/12/2017 18:35</td>\n",
       "      <td>30/12/2017 18:38</td>\n",
       "      <td>108</td>\n",
       "      <td>1</td>\n",
       "      <td>0</td>\n",
       "      <td>0</td>\n",
       "      <td>30/12/2017 16:45</td>\n",
       "      <td>1.870833</td>\n",
       "      <td>0</td>\n",
       "    </tr>\n",
       "    <tr>\n",
       "      <th>1</th>\n",
       "      <td>30/12/2017 19:51</td>\n",
       "      <td>0.074016</td>\n",
       "      <td>fast</td>\n",
       "      <td>30/12/2017 19:50</td>\n",
       "      <td>30/12/2017 19:55</td>\n",
       "      <td>17</td>\n",
       "      <td>0</td>\n",
       "      <td>1</td>\n",
       "      <td>0</td>\n",
       "      <td>30/12/2017 16:45</td>\n",
       "      <td>3.100833</td>\n",
       "      <td>0</td>\n",
       "    </tr>\n",
       "    <tr>\n",
       "      <th>2</th>\n",
       "      <td>30/12/2017 19:51</td>\n",
       "      <td>4.000000</td>\n",
       "      <td>fast</td>\n",
       "      <td>30/12/2017 19:50</td>\n",
       "      <td>30/12/2017 19:55</td>\n",
       "      <td>41</td>\n",
       "      <td>0</td>\n",
       "      <td>1</td>\n",
       "      <td>0</td>\n",
       "      <td>30/12/2017 16:45</td>\n",
       "      <td>3.107500</td>\n",
       "      <td>0</td>\n",
       "    </tr>\n",
       "    <tr>\n",
       "      <th>3</th>\n",
       "      <td>30/12/2017 19:52</td>\n",
       "      <td>10.000000</td>\n",
       "      <td>rat</td>\n",
       "      <td>30/12/2017 19:50</td>\n",
       "      <td>30/12/2017 19:55</td>\n",
       "      <td>111</td>\n",
       "      <td>1</td>\n",
       "      <td>0</td>\n",
       "      <td>0</td>\n",
       "      <td>30/12/2017 16:45</td>\n",
       "      <td>3.126944</td>\n",
       "      <td>0</td>\n",
       "    </tr>\n",
       "    <tr>\n",
       "      <th>4</th>\n",
       "      <td>30/12/2017 19:54</td>\n",
       "      <td>15.000000</td>\n",
       "      <td>rat</td>\n",
       "      <td>30/12/2017 19:50</td>\n",
       "      <td>30/12/2017 19:55</td>\n",
       "      <td>194</td>\n",
       "      <td>1</td>\n",
       "      <td>0</td>\n",
       "      <td>0</td>\n",
       "      <td>30/12/2017 16:45</td>\n",
       "      <td>3.150000</td>\n",
       "      <td>0</td>\n",
       "    </tr>\n",
       "  </tbody>\n",
       "</table>\n",
       "</div>"
      ],
      "text/plain": [
       "         start_time  bat_landing_to_food habit  rat_period_start  \\\n",
       "0  30/12/2017 18:37            16.000000   rat  30/12/2017 18:35   \n",
       "1  30/12/2017 19:51             0.074016  fast  30/12/2017 19:50   \n",
       "2  30/12/2017 19:51             4.000000  fast  30/12/2017 19:50   \n",
       "3  30/12/2017 19:52            10.000000   rat  30/12/2017 19:50   \n",
       "4  30/12/2017 19:54            15.000000   rat  30/12/2017 19:50   \n",
       "\n",
       "     rat_period_end  seconds_after_rat_arrival  risk  reward  month  \\\n",
       "0  30/12/2017 18:38                        108     1       0      0   \n",
       "1  30/12/2017 19:55                         17     0       1      0   \n",
       "2  30/12/2017 19:55                         41     0       1      0   \n",
       "3  30/12/2017 19:55                        111     1       0      0   \n",
       "4  30/12/2017 19:55                        194     1       0      0   \n",
       "\n",
       "        sunset_time  hours_after_sunset  season  \n",
       "0  30/12/2017 16:45            1.870833       0  \n",
       "1  30/12/2017 16:45            3.100833       0  \n",
       "2  30/12/2017 16:45            3.107500       0  \n",
       "3  30/12/2017 16:45            3.126944       0  \n",
       "4  30/12/2017 16:45            3.150000       0  "
      ]
     },
     "execution_count": 4,
     "metadata": {},
     "output_type": "execute_result"
    }
   ],
   "source": [
    "#dealing with df1 first\n",
    "df1.head()"
   ]
  },
  {
   "cell_type": "code",
   "execution_count": 5,
   "id": "1ce3ddc4-8454-4c2c-8cca-890be38debbc",
   "metadata": {},
   "outputs": [
    {
     "data": {
      "text/plain": [
       "start_time                    object\n",
       "bat_landing_to_food          float64\n",
       "habit                         object\n",
       "rat_period_start              object\n",
       "rat_period_end                object\n",
       "seconds_after_rat_arrival      int64\n",
       "risk                           int64\n",
       "reward                         int64\n",
       "month                          int64\n",
       "sunset_time                   object\n",
       "hours_after_sunset           float64\n",
       "season                         int64\n",
       "dtype: object"
      ]
     },
     "execution_count": 5,
     "metadata": {},
     "output_type": "execute_result"
    }
   ],
   "source": [
    "df1.dtypes"
   ]
  },
  {
   "cell_type": "code",
   "execution_count": 6,
   "id": "e51df330-5c87-419b-be36-3b60f1cb385a",
   "metadata": {},
   "outputs": [
    {
     "data": {
      "text/plain": [
       "start_time                    0\n",
       "bat_landing_to_food           0\n",
       "habit                        41\n",
       "rat_period_start              0\n",
       "rat_period_end                0\n",
       "seconds_after_rat_arrival     0\n",
       "risk                          0\n",
       "reward                        0\n",
       "month                         0\n",
       "sunset_time                   0\n",
       "hours_after_sunset            0\n",
       "season                        0\n",
       "dtype: int64"
      ]
     },
     "execution_count": 6,
     "metadata": {},
     "output_type": "execute_result"
    }
   ],
   "source": [
    "#checking for null values\n",
    "df1.isnull().sum()"
   ]
  },
  {
   "cell_type": "code",
   "execution_count": 7,
   "id": "f5fdc502-24bd-4221-9a61-0f2b9d654dd5",
   "metadata": {},
   "outputs": [
    {
     "data": {
      "text/html": [
       "<div>\n",
       "<style scoped>\n",
       "    .dataframe tbody tr th:only-of-type {\n",
       "        vertical-align: middle;\n",
       "    }\n",
       "\n",
       "    .dataframe tbody tr th {\n",
       "        vertical-align: top;\n",
       "    }\n",
       "\n",
       "    .dataframe thead th {\n",
       "        text-align: right;\n",
       "    }\n",
       "</style>\n",
       "<table border=\"1\" class=\"dataframe\">\n",
       "  <thead>\n",
       "    <tr style=\"text-align: right;\">\n",
       "      <th></th>\n",
       "      <th>count</th>\n",
       "    </tr>\n",
       "    <tr>\n",
       "      <th>habit</th>\n",
       "      <th></th>\n",
       "    </tr>\n",
       "  </thead>\n",
       "  <tbody>\n",
       "    <tr>\n",
       "      <th>fast</th>\n",
       "      <td>245</td>\n",
       "    </tr>\n",
       "    <tr>\n",
       "      <th>rat</th>\n",
       "      <td>221</td>\n",
       "    </tr>\n",
       "    <tr>\n",
       "      <th>pick</th>\n",
       "      <td>139</td>\n",
       "    </tr>\n",
       "    <tr>\n",
       "      <th>bat</th>\n",
       "      <td>30</td>\n",
       "    </tr>\n",
       "    <tr>\n",
       "      <th>bat_fight</th>\n",
       "      <td>26</td>\n",
       "    </tr>\n",
       "    <tr>\n",
       "      <th>...</th>\n",
       "      <td>...</td>\n",
       "    </tr>\n",
       "    <tr>\n",
       "      <th>eating_and_bat_and_pick</th>\n",
       "      <td>1</td>\n",
       "    </tr>\n",
       "    <tr>\n",
       "      <th>bat_figiht</th>\n",
       "      <td>1</td>\n",
       "    </tr>\n",
       "    <tr>\n",
       "      <th>415.0,86.5,559.2,140.2; 66.0,157.0,285.0,279.0</th>\n",
       "      <td>1</td>\n",
       "    </tr>\n",
       "    <tr>\n",
       "      <th>rat_pick_and_bat</th>\n",
       "      <td>1</td>\n",
       "    </tr>\n",
       "    <tr>\n",
       "      <th>rat_and_bat_and_pick</th>\n",
       "      <td>1</td>\n",
       "    </tr>\n",
       "  </tbody>\n",
       "</table>\n",
       "<p>81 rows × 1 columns</p>\n",
       "</div>"
      ],
      "text/plain": [
       "                                                count\n",
       "habit                                                \n",
       "fast                                              245\n",
       "rat                                               221\n",
       "pick                                              139\n",
       "bat                                                30\n",
       "bat_fight                                          26\n",
       "...                                               ...\n",
       "eating_and_bat_and_pick                             1\n",
       "bat_figiht                                          1\n",
       "415.0,86.5,559.2,140.2; 66.0,157.0,285.0,279.0      1\n",
       "rat_pick_and_bat                                    1\n",
       "rat_and_bat_and_pick                                1\n",
       "\n",
       "[81 rows x 1 columns]"
      ]
     },
     "execution_count": 7,
     "metadata": {},
     "output_type": "execute_result"
    }
   ],
   "source": [
    "#as we can see there are some values that are terribly encoded under the habit column\n",
    "#Thus we will identify columns with similar problems and fix them in the data cleaner function\n",
    "df1[\"habit\"].value_counts().to_frame()"
   ]
  },
  {
   "cell_type": "code",
   "execution_count": 8,
   "id": "e9a267bd-f94b-45ba-840d-747514bf3938",
   "metadata": {},
   "outputs": [],
   "source": [
    "cat_columns=['start_time', 'habit', 'rat_period_start', 'rat_period_end', 'risk',\n",
    "       'reward', 'month', 'sunset_time', 'season', 'start_date']"
   ]
  },
  {
   "cell_type": "code",
   "execution_count": null,
   "id": "6e067548-eb79-4127-82ea-7f2e225e713d",
   "metadata": {},
   "outputs": [],
   "source": []
  },
  {
   "cell_type": "markdown",
   "id": "f60686c6-144d-458a-81b8-c3ed3d185ff7",
   "metadata": {},
   "source": [
    "After going through the cat columns, only habit has terribly encoded data"
   ]
  },
  {
   "cell_type": "code",
   "execution_count": 9,
   "id": "5696230d-f097-488b-987f-1eaed350fc67",
   "metadata": {},
   "outputs": [
    {
     "data": {
      "text/plain": [
       "array(['rat', 'fast', 'pick', 'bat_fight', 'rat_and_no_food', nan,\n",
       "       'rat_and_others', 'pick_and_others', 'gaze', 'pick_rat', 'bat',\n",
       "       'both', 'pick_bat',\n",
       "       '94.0,305.0,239.0,416.0; 364.8,139.3,462.3,241.3', 'rat attack',\n",
       "       'attack_rat', 'bat_and_rat', 'rat_attack', 'other_bats',\n",
       "       'rat_pick', 'rat_and_bat', 'bowl_out', 'other_bat',\n",
       "       '373.0,80.0,504.0,148.0; 274.6,110.7,382.4,267.3', 'other',\n",
       "       '245.6,179.5,321.4,314.0; 522.4,0.3,592.0,95.5', 'eating',\n",
       "       'rat_to_bat', 'other_bats/rat',\n",
       "       '405.6,112.3,513.1,215.4; 464.1,197.7,614.9,334.3; 511.5,301.1,639.4,388.9',\n",
       "       'pick_and_all', 'bat_and_pick', 'bat_fight_and_pick',\n",
       "       '187.0,152.0,304.0,240.0; 567.9,88.6,621.1,140.3',\n",
       "       '44.0,77.0,157.0,240.0; 253.0,96.0,346.0,147.0',\n",
       "       '397.7,159.7,580.2,330.5; 252.0,92.0,346.0,149.0', 'pick_and_bat',\n",
       "       '218.0,171.0,381.0,269.0; 239.0,106.0,315.0,155.0',\n",
       "       '423.0,155.9,535.6,370.9; 238.0,99.0,314.0,160.0',\n",
       "       'eating_and_bat_and_pick', 'bat_figiht', 'bat_pick_rat',\n",
       "       '415.0,86.5,559.2,140.2; 66.0,157.0,285.0,279.0',\n",
       "       'rat_pick_and_bat', 'pick_and_rat', 'fight_rat', 'all_pick',\n",
       "       'no_food', 'bats', 'others', 'rat_and_pick',\n",
       "       '157.0,2.6,349.0,159.3; 572.1,275.7,638.3,360.0', 'pick_rat_bat',\n",
       "       'bat_and_pick_far', 'fast_far',\n",
       "       '530.0,20.0,611.0,156.0; 227.6,128.8,290.8,208.0', 'fight',\n",
       "       'bat_rat_pick', 'bat_pick', 'rat_disappear', 'eating_bat_rat_pick',\n",
       "       'fast_and_pick', 'other directions',\n",
       "       '243.6,235.6,432.2,329.8; 559.0,244.0,622.0,395.0',\n",
       "       'bat_fight_rat', 'bat_rat', 'pup_and_mon', 'pick_eating_all',\n",
       "       '511.7,236.3,632.2,404.5; 445.0,199.0,503.0,245.0', 'pick_bat_rat',\n",
       "       '417.7,117.1,635.5,346.0; 243.0,272.0,308.0,379.0; 438.0,230.0,494.0,291.0',\n",
       "       'rat_bat', 'rat_bat_fight', 'eating_bat_pick', 'pick_rat_and_bat',\n",
       "       'fight_bat', '380.6,321.1,550.6,477.5; 263.0,267.0,421.0,435.0',\n",
       "       'bat_fight_and_rat', 'rat_and_rat', 'not_sure_rat',\n",
       "       '501.0,358.4,636.2,423.4; 476.0,103.0,634.0,206.0',\n",
       "       'rat_and_bat_and_pick'], dtype=object)"
      ]
     },
     "execution_count": 9,
     "metadata": {},
     "output_type": "execute_result"
    }
   ],
   "source": [
    "#creating a list for habit and manually identifying terrible words\n",
    "df1[\"habit\"].unique()"
   ]
  },
  {
   "cell_type": "code",
   "execution_count": 10,
   "id": "dc0aadba-9513-4b2d-ab0c-72fac58a7b89",
   "metadata": {},
   "outputs": [
    {
     "name": "stdout",
     "output_type": "stream",
     "text": [
      "The total number of terribly encoded 17, out of 907\n"
     ]
    }
   ],
   "source": [
    "wrong_encoded=0\n",
    "for n in df1[\"habit\"]:\n",
    "    try: \n",
    "        if type(int(n[0]))==int:\n",
    "            wrong_encoded+=1\n",
    "    except:\n",
    "        pass\n",
    "count=len(df1[\"habit\"])        \n",
    "print(f\"The total number of terribly encoded {wrong_encoded}, out of {count}\")        \n",
    "\n",
    "    "
   ]
  },
  {
   "cell_type": "code",
   "execution_count": 11,
   "id": "c6f8ed2d-3827-4e66-9e48-8a8a349e4583",
   "metadata": {},
   "outputs": [],
   "source": [
    "#function to change datatypes and clean data\n",
    "def df1_data_cleaner(df):\n",
    "    #the function will convert risk, reward, month and season to respective categories\n",
    "    #it will then move to extract the time from start_time, rat_period_start, rat_period_end and sunset_time\n",
    "    #next it will create a column called start date which will be the dates in start time,then start time will just have the time \n",
    "    #The next step is to remove all terribly encoded data \n",
    "    #Then remov null values from habit, considering they are a small number of null values, we can discard them \n",
    "    \n",
    "    \n",
    "    df[\"risk\"]=df[\"risk\"].astype(str)\n",
    "    df[\"reward\"]=df[\"reward\"].astype(str)\n",
    "    df[\"month\"]=df[\"month\"].astype(str)\n",
    "    df[\"season\"]=df[\"season\"].astype(str)\n",
    "\n",
    "    df[\"rat_period_start\"]=df[\"rat_period_start\"].apply(lambda x: x.split(\" \")[1])\n",
    "    df[\"rat_period_end\"]=df[\"rat_period_end\"].apply(lambda x: x.split(\" \")[1])\n",
    "    df[\"start_date\"]=df[\"start_time\"].apply(lambda x: x.split(\" \")[0])\n",
    "    df[\"start_time\"]=df[\"start_time\"].apply(lambda x: x.split(\" \")[1])\n",
    "    df[\"sunset_time\"]=df[\"sunset_time\"].apply(lambda x: x.split(\" \")[1])\n",
    "\n",
    "    bad_data_index_list=[]\n",
    "    for n in df[\"habit\"]:\n",
    "        try: \n",
    "            if type(int(n[0]))==int:\n",
    "                index_value=df.loc[df[\"habit\"]==n].index.values[0]\n",
    "                bad_data_index_list.append(index_value)\n",
    "        except:\n",
    "            pass\n",
    "           \n",
    "    df.drop(index=bad_data_index_list,inplace=True)\n",
    "    df.dropna(inplace=True)\n",
    "    return df\n",
    "    \n",
    "df1_cleaned=df1_data_cleaner(df1).copy()    \n",
    "    \n",
    "    "
   ]
  },
  {
   "cell_type": "code",
   "execution_count": 12,
   "id": "cc8188a4-3fc9-462e-8a50-066dc0db4a7c",
   "metadata": {},
   "outputs": [
    {
     "data": {
      "text/plain": [
       "start_time                   0\n",
       "bat_landing_to_food          0\n",
       "habit                        0\n",
       "rat_period_start             0\n",
       "rat_period_end               0\n",
       "seconds_after_rat_arrival    0\n",
       "risk                         0\n",
       "reward                       0\n",
       "month                        0\n",
       "sunset_time                  0\n",
       "hours_after_sunset           0\n",
       "season                       0\n",
       "start_date                   0\n",
       "dtype: int64"
      ]
     },
     "execution_count": 12,
     "metadata": {},
     "output_type": "execute_result"
    }
   ],
   "source": [
    "df1_cleaned.isnull().sum()"
   ]
  },
  {
   "cell_type": "code",
   "execution_count": 13,
   "id": "f379da87-75f9-4dbb-8acf-b68578aab411",
   "metadata": {},
   "outputs": [
    {
     "data": {
      "text/plain": [
       "array(['rat', 'fast', 'pick', 'bat_fight', 'rat_and_no_food',\n",
       "       'rat_and_others', 'pick_and_others', 'gaze', 'pick_rat', 'bat',\n",
       "       'both', 'pick_bat', 'rat attack', 'attack_rat', 'bat_and_rat',\n",
       "       'rat_attack', 'other_bats', 'rat_pick', 'rat_and_bat', 'bowl_out',\n",
       "       'other_bat', 'other', 'eating', 'rat_to_bat', 'other_bats/rat',\n",
       "       'pick_and_all', 'bat_and_pick', 'bat_fight_and_pick',\n",
       "       'pick_and_bat', 'eating_and_bat_and_pick', 'bat_figiht',\n",
       "       'bat_pick_rat', 'rat_pick_and_bat', 'pick_and_rat', 'fight_rat',\n",
       "       'all_pick', 'no_food', 'bats', 'others', 'rat_and_pick',\n",
       "       'pick_rat_bat', 'bat_and_pick_far', 'fast_far', 'fight',\n",
       "       'bat_rat_pick', 'bat_pick', 'rat_disappear', 'eating_bat_rat_pick',\n",
       "       'fast_and_pick', 'other directions', 'bat_fight_rat', 'bat_rat',\n",
       "       'pup_and_mon', 'pick_eating_all', 'pick_bat_rat', 'rat_bat',\n",
       "       'rat_bat_fight', 'eating_bat_pick', 'pick_rat_and_bat',\n",
       "       'fight_bat', 'bat_fight_and_rat', 'rat_and_rat', 'not_sure_rat',\n",
       "       'rat_and_bat_and_pick'], dtype=object)"
      ]
     },
     "execution_count": 13,
     "metadata": {},
     "output_type": "execute_result"
    }
   ],
   "source": [
    "df1_cleaned[\"habit\"].unique()"
   ]
  },
  {
   "cell_type": "markdown",
   "id": "d5a5398b-8d97-4eae-8391-105ba1e46d58",
   "metadata": {},
   "source": [
    "## Numerical data cleaning"
   ]
  },
  {
   "cell_type": "code",
   "execution_count": 14,
   "id": "46a933e5-ac26-44f3-b6eb-73e77fe29ee7",
   "metadata": {},
   "outputs": [
    {
     "data": {
      "text/plain": [
       "Index(['bat_landing_to_food', 'seconds_after_rat_arrival',\n",
       "       'hours_after_sunset'],\n",
       "      dtype='object')"
      ]
     },
     "execution_count": 14,
     "metadata": {},
     "output_type": "execute_result"
    }
   ],
   "source": [
    "#selecting numerical data\n",
    "df1_cleaned.select_dtypes([\"int\",\"float\"]).columns"
   ]
  },
  {
   "cell_type": "code",
   "execution_count": 19,
   "id": "8f4a92ff-298d-4167-9774-2943de24fc19",
   "metadata": {},
   "outputs": [
    {
     "data": {
      "image/png": "[encoded data removed]",
      "text/plain": [
       "<Figure size 640x480 with 1 Axes>"
      ]
     },
     "metadata": {},
     "output_type": "display_data"
    },
    {
     "data": {
      "image/png": "[encoded data removed]",
      "text/plain": [
       "<Figure size 640x480 with 1 Axes>"
      ]
     },
     "metadata": {},
     "output_type": "display_data"
    }
   ],
   "source": [
    "for n in df1_cleaned.select_dtypes([\"int\",\"float\"]).columns[0:2]:\n",
    "    range=df1_cleaned[n].max() - df1_cleaned[n].min()\n",
    "    bin_width=10\n",
    "    bins=int(range/bin_width)\n",
    "    plt.hist(df1_cleaned[n],bins=bins)\n",
    "    plt.title(f\"Distribution data for {n}\")\n",
    "    plt.xlabel(\"Bins\")\n",
    "    plt.ylabel(\"Counts\")\n",
    "    plt.show()"
   ]
  },
  {
   "cell_type": "code",
   "execution_count": 20,
   "id": "ee048358-8ea3-4912-8eba-f04be7a0da9b",
   "metadata": {},
   "outputs": [
    {
     "data": {
      "image/png": "[encoded data removed]",
      "text/plain": [
       "<Figure size 640x480 with 1 Axes>"
      ]
     },
     "metadata": {},
     "output_type": "display_data"
    }
   ],
   "source": [
    "#histogram for hours after sunset\n",
    "plt.hist(df1_cleaned[\"hours_after_sunset\"])\n",
    "plt.title(\"Distribution data for hours_after_sunset\")\n",
    "plt.xlabel(\"Bins\")\n",
    "plt.ylabel(\"Counts\")\n",
    "plt.show()"
   ]
  },
  {
   "cell_type": "markdown",
   "id": "215eaeea-c171-454f-bebc-669b1bc69890",
   "metadata": {},
   "source": [
    "bat_landing_to_food and seconds_after_rat_arrival are rightly skewed, hence they have some extreme positive values that deviate from the normal distribution. Next, I will visual using a boxplot and get a total estimate of how many outliers are in the two columns\n",
    "\n",
    "The last column, hours after sunset is normally distributed."
   ]
  },
  {
   "cell_type": "code",
   "execution_count": 24,
   "id": "a67da423-223a-423b-b78e-809772859668",
   "metadata": {},
   "outputs": [
    {
     "data": {
      "image/png": "[encoded data removed]",
      "text/plain": [
       "<Figure size 640x480 with 1 Axes>"
      ]
     },
     "metadata": {},
     "output_type": "display_data"
    },
    {
     "data": {
      "image/png": "[encoded data removed]",
      "text/plain": [
       "<Figure size 640x480 with 1 Axes>"
      ]
     },
     "metadata": {},
     "output_type": "display_data"
    }
   ],
   "source": [
    "for n in df1_cleaned.select_dtypes([\"int\",\"float\"]).columns[0:2]:\n",
    "    plt.boxplot(df1_cleaned[n])\n",
    "    plt.title(f\"Box plot diagram for {n}\")\n",
    "    plt.show()"
   ]
  },
  {
   "cell_type": "code",
   "execution_count": 35,
   "id": "03e56888-2f56-4bf7-81fd-16e282f27a1b",
   "metadata": {},
   "outputs": [
    {
     "name": "stdout",
     "output_type": "stream",
     "text": [
      "The total number of outliers in bat_landing_to_food column is 80 which consists of 9.422850412249705 %\n"
     ]
    }
   ],
   "source": [
    "#using IQR to get the percentage of outliers in the first column\n",
    "def IQR(df,column_name):\n",
    "    q1=df[column_name].quantile(0.25)\n",
    "    q3=df[column_name].quantile(0.75)\n",
    "    IQR=q3 - q1\n",
    "    lower_bound=q1 - IQR*1.5\n",
    "    upper_bound=q3 + IQR*1.5\n",
    "    outlier_df=df.loc[(df[column_name]<lower_bound) | (df[column_name]>upper_bound)]\n",
    "    outlier_count=len(outlier_df)\n",
    "    outlier_percentage_count=(outlier_count/len(df))*100\n",
    "    print(f\"The total number of outliers in bat_landing_to_food column is {outlier_count} which consists of {outlier_percentage_count} %\") \n",
    "    #removing outliers\n",
    "    cleaned_df=df.loc[(df[column_name]>=lower_bound) & (df[column_name]<=upper_bound)]\n",
    "    return cleaned_df\n",
    "df=IQR(df1_cleaned,'bat_landing_to_food').copy()\n",
    "  \n",
    "    "
   ]
  },
  {
   "cell_type": "code",
   "execution_count": 38,
   "id": "87fd6e35-1a25-48fe-8fb9-0a27373eb8ec",
   "metadata": {},
   "outputs": [
    {
     "data": {
      "text/plain": [
       "Index(['start_time', 'bat_landing_to_food', 'habit', 'rat_period_start',\n",
       "       'rat_period_end', 'seconds_after_rat_arrival', 'risk', 'reward',\n",
       "       'month', 'sunset_time', 'hours_after_sunset', 'season', 'start_date'],\n",
       "      dtype='object')"
      ]
     },
     "execution_count": 38,
     "metadata": {},
     "output_type": "execute_result"
    }
   ],
   "source": [
    "df.columns"
   ]
  },
  {
   "cell_type": "markdown",
   "id": "a13fff73-8d19-4729-9c82-1adeda2c27a0",
   "metadata": {},
   "source": [
    "## Feature engineering"
   ]
  },
  {
   "cell_type": "code",
   "execution_count": null,
   "id": "1315c3f9-4943-412b-b5a5-450553a98faf",
   "metadata": {},
   "outputs": [],
   "source": []
  }
 ],
 "metadata": {
  "kernelspec": {
   "display_name": "base",
   "language": "python",
   "name": "python3"
  },
  "language_info": {
   "codemirror_mode": {
    "name": "ipython",
    "version": 3
   },
   "file_extension": ".py",
   "mimetype": "text/x-python",
   "name": "python",
   "nbconvert_exporter": "python",
   "pygments_lexer": "ipython3",
   "version": "3.11.4"
  }
 },
 "nbformat": 4,
 "nbformat_minor": 5
}
